{
 "cells": [
  {
   "cell_type": "markdown",
   "metadata": {},
   "source": [
    "# Implicit & LightFM\n",
    "\n",
    "В данном jupyter notebook рассматриваются как использовать implicit и LightFM для построения рекомендаций\n",
    "\n",
    "* [Load data](#load-data)\n",
    "* [Validation](#validation)\n",
    "* [Implicit](#implicit)\n",
    "* [LightFM](#lightfm)\n",
    "* [Links](#links)"
   ]
  },
  {
   "cell_type": "code",
   "execution_count": 3,
   "metadata": {
    "_cell_guid": "b1076dfc-b9ad-4769-8c92-a6c4dae69d19",
    "_uuid": "8f2839f25d086af736a60e9eeb907d3b93b6e0e5"
   },
   "outputs": [
    {
     "name": "stdout",
     "output_type": "stream",
     "text": [
      "Dataset:\n"
     ]
    }
   ],
   "source": [
    "import os\n",
    "import numpy as np \n",
    "import pandas as pd \n",
    "import scipy.sparse as sp\n",
    "from itertools import islice, cycle\n",
    "from more_itertools import pairwise\n",
    "from tqdm.auto import tqdm\n",
    "\n",
    "\n",
    "os.environ['OPENBLAS_NUM_THREADS'] = '1'\n",
    "os.environ['MKL_NUM_THREADS'] = '1'\n",
    "\n",
    "print('Dataset:')\n",
    "for dirname, _, filenames in os.walk('/kaggle/input'):\n",
    "    for filename in filenames:\n",
    "        print(os.path.join(dirname, filename))"
   ]
  },
  {
   "cell_type": "code",
   "execution_count": 2,
   "metadata": {},
   "outputs": [
    {
     "name": "stdout",
     "output_type": "stream",
     "text": [
      "Defaulting to user installation because normal site-packages is not writeable\n",
      "Collecting more_itertools\n",
      "  Using cached more_itertools-10.2.0-py3-none-any.whl.metadata (34 kB)\n",
      "Using cached more_itertools-10.2.0-py3-none-any.whl (57 kB)\n",
      "Installing collected packages: more_itertools\n",
      "Successfully installed more_itertools-10.2.0\n"
     ]
    },
    {
     "name": "stderr",
     "output_type": "stream",
     "text": [
      "\n",
      "[notice] A new release of pip is available: 23.3.1 -> 23.3.2\n",
      "[notice] To update, run: python.exe -m pip install --upgrade pip\n"
     ]
    }
   ],
   "source": [
    "!pip install more_itertools"
   ]
  },
  {
   "cell_type": "markdown",
   "metadata": {},
   "source": [
    "<a id=\"load-data\"></a>\n",
    "# Load data\n",
    "\n",
    "Возьмем уже предобработанный данные из [metrics-validation-strategies-and-baselines](https://www.kaggle.com/sharthz23/metrics-validation-strategies-and-baselines/output)"
   ]
  },
  {
   "cell_type": "code",
   "execution_count": null,
   "metadata": {
    "_cell_guid": "79c7e3d0-c299-4dcb-8224-4455121ee9b0",
    "_uuid": "d629ff2d2480ee46fbb7e2d37f6b5fab8052498a"
   },
   "outputs": [],
   "source": [
    "df = pd.read_pickle('../input/metrics-validation-strategies-and-baselines/interactions_preprocessed.pickle')\n",
    "df_users = pd.read_pickle('../input/metrics-validation-strategies-and-baselines/users_preprocessed.pickle')\n",
    "df_items = pd.read_pickle('../input/metrics-validation-strategies-and-baselines/items_preprocessed.pickle')\n",
    "\n",
    "df.shape, df_users.shape, df_items.shape"
   ]
  },
  {
   "cell_type": "code",
   "execution_count": null,
   "metadata": {},
   "outputs": [],
   "source": [
    "df.head()"
   ]
  },
  {
   "cell_type": "code",
   "execution_count": null,
   "metadata": {},
   "outputs": [],
   "source": [
    "users_inv_mapping = dict(enumerate(df['user_id'].unique()))\n",
    "users_mapping = {v: k for k, v in users_inv_mapping.items()}\n",
    "len(users_mapping)"
   ]
  },
  {
   "cell_type": "code",
   "execution_count": null,
   "metadata": {},
   "outputs": [],
   "source": [
    "items_inv_mapping = dict(enumerate(df['item_id'].unique()))\n",
    "items_mapping = {v: k for k, v in items_inv_mapping.items()}\n",
    "len(items_mapping)"
   ]
  },
  {
   "cell_type": "code",
   "execution_count": null,
   "metadata": {},
   "outputs": [],
   "source": [
    "df_items['title'] = df_items['title'].str.lower()"
   ]
  },
  {
   "cell_type": "code",
   "execution_count": null,
   "metadata": {},
   "outputs": [],
   "source": [
    "item_titles = pd.Series(df_items['title'].values, index=df_items['id']).to_dict()\n",
    "len(item_titles), item_titles[128115]"
   ]
  },
  {
   "cell_type": "code",
   "execution_count": null,
   "metadata": {},
   "outputs": [],
   "source": [
    "title_items = df_items.groupby('title')['id'].agg(list)\n",
    "title_items"
   ]
  },
  {
   "cell_type": "code",
   "execution_count": null,
   "metadata": {},
   "outputs": [],
   "source": [
    "title_count = title_items.map(len)\n",
    "title_count.value_counts()"
   ]
  },
  {
   "cell_type": "code",
   "execution_count": null,
   "metadata": {},
   "outputs": [],
   "source": [
    "title_items[title_count > 1].tail()"
   ]
  },
  {
   "cell_type": "code",
   "execution_count": null,
   "metadata": {},
   "outputs": [],
   "source": [
    "df_items[df_items['title'] == 'ящик пандоры']"
   ]
  },
  {
   "cell_type": "code",
   "execution_count": null,
   "metadata": {},
   "outputs": [],
   "source": [
    "title_items[title_count > 1].head()"
   ]
  },
  {
   "cell_type": "code",
   "execution_count": null,
   "metadata": {},
   "outputs": [],
   "source": [
    "df_items[df_items['title'] == '451 градус по фаренгейту']"
   ]
  },
  {
   "cell_type": "code",
   "execution_count": null,
   "metadata": {},
   "outputs": [],
   "source": [
    "df['rating'] = np.array(df['rating'].values, dtype=np.float32)\n",
    "\n",
    "df.loc[df['item_id'].isin([44681, 162716])].groupby('item_id').agg({\n",
    "    'progress': np.size,\n",
    "    'rating': ['mean'],\n",
    "    'start_date': ['min', 'max'],\n",
    "})"
   ]
  },
  {
   "cell_type": "markdown",
   "metadata": {},
   "source": [
    "<a id=\"validation\"></a>\n",
    "# Validation\n",
    "\n",
    "Для наших данных выбрем 7 последних дней и будем тестировать на них последовательно (1 test fold - 1 день).\n",
    "\n",
    "Но теперь нам нужно учитывать проблему холодного старта. Это основная проблем классических метод над матрицей взаимодействий.\n",
    "Поэтому напишем свой класс для разбиения исходного датафрейма на train/test"
   ]
  },
  {
   "cell_type": "code",
   "execution_count": null,
   "metadata": {
    "_kg_hide-input": true
   },
   "outputs": [],
   "source": [
    "class TimeRangeSplit():\n",
    "    \"\"\"\n",
    "        https://pandas.pydata.org/pandas-docs/stable/reference/api/pandas.date_range.html\n",
    "    \"\"\"\n",
    "    def __init__(self, \n",
    "                 start_date, \n",
    "                 end_date=None, \n",
    "                 freq='D', \n",
    "                 periods=None, \n",
    "                 tz=None, \n",
    "                 normalize=False, \n",
    "                 closed=None, \n",
    "                 train_min_date=None,\n",
    "                 filter_cold_users=True, \n",
    "                 filter_cold_items=True, \n",
    "                 filter_already_seen=True):\n",
    "        \n",
    "        self.start_date = start_date\n",
    "        if end_date is None and periods is None:\n",
    "            raise ValueError(\"Either 'end_date' or 'periods' must be non-zero, not both at the same time.\")\n",
    "\n",
    "        self.end_date = end_date\n",
    "        self.freq = freq\n",
    "        self.periods = periods\n",
    "        self.tz = tz\n",
    "        self.normalize = normalize\n",
    "        self.closed = closed\n",
    "        self.train_min_date = pd.to_datetime(train_min_date, errors='raise')\n",
    "        self.filter_cold_users = filter_cold_users\n",
    "        self.filter_cold_items = filter_cold_items\n",
    "        self.filter_already_seen = filter_already_seen\n",
    "\n",
    "        self.date_range = pd.date_range(\n",
    "            start=start_date, \n",
    "            end=end_date, \n",
    "            freq=freq, \n",
    "            periods=periods, \n",
    "            tz=tz, \n",
    "            normalize=normalize, \n",
    "            closed=closed)\n",
    "\n",
    "        self.max_n_splits = max(0, len(self.date_range) - 1)\n",
    "        if self.max_n_splits == 0:\n",
    "            raise ValueError(\"Provided parametrs set an empty date range.\") \n",
    "\n",
    "    def split(self, \n",
    "              df, \n",
    "              user_column='user_id',\n",
    "              item_column='item_id',\n",
    "              datetime_column='date',\n",
    "              fold_stats=False):\n",
    "        df_datetime = df[datetime_column]\n",
    "        if self.train_min_date is not None:\n",
    "            train_min_mask = df_datetime >= self.train_min_date\n",
    "        else:\n",
    "            train_min_mask = df_datetime.notnull()\n",
    "\n",
    "        date_range = self.date_range[(self.date_range >= df_datetime.min()) & \n",
    "                                     (self.date_range <= df_datetime.max())]\n",
    "\n",
    "        for start, end in pairwise(date_range):\n",
    "            fold_info = {\n",
    "                'Start date': start,\n",
    "                'End date': end\n",
    "            }\n",
    "            train_mask = train_min_mask & (df_datetime < start)\n",
    "            train_idx = df.index[train_mask]\n",
    "            if fold_stats:\n",
    "                fold_info['Train'] = len(train_idx)\n",
    "\n",
    "            test_mask = (df_datetime >= start) & (df_datetime < end)\n",
    "            test_idx = df.index[test_mask]\n",
    "            \n",
    "            if self.filter_cold_users:\n",
    "                new = np.setdiff1d(\n",
    "                    df.loc[test_idx, user_column].unique(), \n",
    "                    df.loc[train_idx, user_column].unique())\n",
    "                new_idx = df.index[test_mask & df[user_column].isin(new)]\n",
    "                test_idx = np.setdiff1d(test_idx, new_idx)\n",
    "                test_mask = df.index.isin(test_idx)\n",
    "                if fold_stats:\n",
    "                    fold_info['New users'] = len(new)\n",
    "                    fold_info['New users interactions'] = len(new_idx)\n",
    "\n",
    "            if self.filter_cold_items:\n",
    "                new = np.setdiff1d(\n",
    "                    df.loc[test_idx, item_column].unique(), \n",
    "                    df.loc[train_idx, item_column].unique())\n",
    "                new_idx = df.index[test_mask & df[item_column].isin(new)]\n",
    "                test_idx = np.setdiff1d(test_idx, new_idx)\n",
    "                test_mask = df.index.isin(test_idx)\n",
    "                if fold_stats:\n",
    "                    fold_info['New items'] = len(new)\n",
    "                    fold_info['New items interactions'] = len(new_idx)\n",
    "\n",
    "            if self.filter_already_seen:\n",
    "                user_item = [user_column, item_column]\n",
    "                train_pairs = df.loc[train_idx, user_item].set_index(user_item).index\n",
    "                test_pairs = df.loc[test_idx, user_item].set_index(user_item).index\n",
    "                intersection = train_pairs.intersection(test_pairs)\n",
    "                test_idx = test_idx[~test_pairs.isin(intersection)]\n",
    "                # test_mask = rd.df.index.isin(test_idx)\n",
    "                if fold_stats:\n",
    "                    fold_info['Known interactions'] = len(intersection)\n",
    "\n",
    "            if fold_stats:\n",
    "                fold_info['Test'] = len(test_idx)\n",
    "\n",
    "            yield (train_idx, test_idx, fold_info)\n",
    "\n",
    "    def get_n_splits(self, df, datetime_column='date'):\n",
    "        df_datetime = df[datetime_column]\n",
    "        if self.train_min_date is not None:\n",
    "            df_datetime = df_datetime[df_datetime >= self.train_min_date]\n",
    "\n",
    "        date_range = self.date_range[(self.date_range >= df_datetime.min()) & \n",
    "                                     (self.date_range <= df_datetime.max())]\n",
    "\n",
    "        return max(0, len(date_range) - 1)"
   ]
  },
  {
   "cell_type": "code",
   "execution_count": null,
   "metadata": {},
   "outputs": [],
   "source": [
    "last_date = df['start_date'].max().normalize()\n",
    "folds = 7\n",
    "start_date = last_date - pd.Timedelta(days=folds)\n",
    "start_date, last_date"
   ]
  },
  {
   "cell_type": "code",
   "execution_count": null,
   "metadata": {},
   "outputs": [],
   "source": [
    "cv = TimeRangeSplit(start_date=start_date, periods=folds+1)\n",
    "\n",
    "cv.max_n_splits, cv.get_n_splits(df, datetime_column='start_date')"
   ]
  },
  {
   "cell_type": "code",
   "execution_count": null,
   "metadata": {},
   "outputs": [],
   "source": [
    "cv.date_range"
   ]
  },
  {
   "cell_type": "code",
   "execution_count": null,
   "metadata": {},
   "outputs": [],
   "source": [
    "folds_with_stats = list(cv.split(\n",
    "    df, \n",
    "    user_column='user_id',\n",
    "    item_column='item_id',\n",
    "    datetime_column='start_date',\n",
    "    fold_stats=True\n",
    "))\n",
    "\n",
    "folds_info_with_stats = pd.DataFrame([info for _, _, info in folds_with_stats])"
   ]
  },
  {
   "cell_type": "code",
   "execution_count": null,
   "metadata": {},
   "outputs": [],
   "source": [
    "folds_info_with_stats"
   ]
  },
  {
   "cell_type": "code",
   "execution_count": null,
   "metadata": {},
   "outputs": [],
   "source": [
    "fold_dates = [(info['Start date'], info['End date']) for _, _, info in folds_with_stats]\n",
    "fold_dates"
   ]
  },
  {
   "cell_type": "code",
   "execution_count": null,
   "metadata": {},
   "outputs": [],
   "source": [
    "def compute_metrics(df_true, df_pred, top_N):\n",
    "    result = {}\n",
    "    test_recs = df_true.set_index(['user_id', 'item_id']).join(df_pred.set_index(['user_id', 'item_id']))\n",
    "    test_recs = test_recs.sort_values(by=['user_id', 'rank'])\n",
    "\n",
    "    test_recs['users_item_count'] = test_recs.groupby(level='user_id')['rank'].transform(np.size)\n",
    "    test_recs['reciprocal_rank'] = (1 / test_recs['rank']).fillna(0)\n",
    "    test_recs['cumulative_rank'] = test_recs.groupby(level='user_id').cumcount() + 1\n",
    "    test_recs['cumulative_rank'] = test_recs['cumulative_rank'] / test_recs['rank']\n",
    "    \n",
    "    users_count = test_recs.index.get_level_values('user_id').nunique()\n",
    "    for k in range(1, top_N + 1):\n",
    "        hit_k = f'hit@{k}'\n",
    "        test_recs[hit_k] = test_recs['rank'] <= k\n",
    "        result[f'Precision@{k}'] = (test_recs[hit_k] / k).sum() / users_count\n",
    "        result[f'Recall@{k}'] = (test_recs[hit_k] / test_recs['users_item_count']).sum() / users_count\n",
    "\n",
    "    result[f'MAP@{top_N}'] = (test_recs[\"cumulative_rank\"] / test_recs[\"users_item_count\"]).sum() / users_count\n",
    "    result[f'MRR'] = test_recs.groupby(level='user_id')['reciprocal_rank'].max().mean()\n",
    "    return pd.Series(result)"
   ]
  },
  {
   "cell_type": "markdown",
   "metadata": {},
   "source": [
    "<a id=\"implicit\"></a>\n",
    "# Implicit\n",
    "\n",
    "Библиотека для построения рекомендательных систем на основе датасетов с неявным таргетом.\n",
    "* Репо - https://github.com/benfred/implicit\n",
    "* Документация - https://implicit.readthedocs.io/en/latest/\n",
    "\n",
    "Входные данные - разреженные матрицы (либо csr_matrix, либо coo_matrix) с типом float32/float64"
   ]
  },
  {
   "cell_type": "code",
   "execution_count": null,
   "metadata": {},
   "outputs": [],
   "source": [
    "train_idx, test_idx, info = folds_with_stats[0]\n",
    "\n",
    "train = df.loc[train_idx]\n",
    "test = df.loc[test_idx]\n",
    "train.shape, test.shape"
   ]
  },
  {
   "cell_type": "code",
   "execution_count": null,
   "metadata": {},
   "outputs": [],
   "source": [
    "info['Train'], info['Test']"
   ]
  },
  {
   "cell_type": "code",
   "execution_count": null,
   "metadata": {},
   "outputs": [],
   "source": [
    "def get_coo_matrix(df, \n",
    "                   user_col='user_id', \n",
    "                   item_col='item_id', \n",
    "                   weight_col=None, \n",
    "                   users_mapping=users_mapping, \n",
    "                   items_mapping=items_mapping):\n",
    "    if weight_col is None:\n",
    "        weights = np.ones(len(df), dtype=np.float32)\n",
    "    else:\n",
    "        weights = df[weight_col].astype(np.float32)\n",
    "\n",
    "    interaction_matrix = sp.coo_matrix((\n",
    "        weights, \n",
    "        (\n",
    "            df[user_col].map(users_mapping.get), \n",
    "            df[item_col].map(items_mapping.get)\n",
    "        )\n",
    "    ))\n",
    "    return interaction_matrix"
   ]
  },
  {
   "cell_type": "code",
   "execution_count": null,
   "metadata": {},
   "outputs": [],
   "source": [
    "train_mat = get_coo_matrix(train).tocsr()\n",
    "train_mat"
   ]
  },
  {
   "cell_type": "markdown",
   "metadata": {},
   "source": [
    "## Item-to-item модели\n",
    "\n",
    "**Векорное представление для объекта** - весь столбец из матрицы взаимодействий (user_item) матрица\n",
    "\n",
    "**Процесс построения рекомендаций** - поиск похожих объектов (по косинусной близости) для всех объектов, с которыми пользователь уже взаимодействовал и выдача топа из этого списка\n",
    "\n",
    "**Пространство для тюнинга** - взвешние на уровне таблицы, взвешивание элементов матрицы (на уровне моделей), кол-во соседей `K`"
   ]
  },
  {
   "cell_type": "code",
   "execution_count": null,
   "metadata": {},
   "outputs": [],
   "source": [
    "from implicit.nearest_neighbours import CosineRecommender, BM25Recommender, TFIDFRecommender"
   ]
  },
  {
   "cell_type": "markdown",
   "metadata": {},
   "source": [
    "Этим модели для Item-to-item подхода ожидают на вход матрицу в ориентации item_user, поэтому в `fit` передаем `train_mat.T`"
   ]
  },
  {
   "cell_type": "code",
   "execution_count": null,
   "metadata": {},
   "outputs": [],
   "source": [
    "cosine_model = CosineRecommender(K=10)\n",
    "cosine_model.fit(train_mat.T) # "
   ]
  },
  {
   "cell_type": "code",
   "execution_count": null,
   "metadata": {},
   "outputs": [],
   "source": [
    "top_N = 10\n",
    "user_id = test['user_id'].iloc[0]\n",
    "row_id = users_mapping[user_id]\n",
    "print(f'Рекомендации для пользователя {user_id}, номер строки - {row_id}')"
   ]
  },
  {
   "cell_type": "markdown",
   "metadata": {},
   "source": [
    "Параметр `K` влияет на максимальную выдачу топа, поэтому `N` для таких моделей желательно указывать меньше `K`"
   ]
  },
  {
   "cell_type": "code",
   "execution_count": null,
   "metadata": {},
   "outputs": [],
   "source": [
    "recs = cosine_model.recommend(row_id, train_mat, N=top_N, filter_already_liked_items=True)\n",
    "recs = pd.DataFrame(recs, columns=['col_id', 'similarity'])\n",
    "recs"
   ]
  },
  {
   "cell_type": "code",
   "execution_count": null,
   "metadata": {},
   "outputs": [],
   "source": [
    "recs['item_id'] = recs['col_id'].map(items_inv_mapping.get)\n",
    "recs['title'] = recs['item_id'].map(item_titles.get)\n",
    "recs"
   ]
  },
  {
   "cell_type": "code",
   "execution_count": null,
   "metadata": {},
   "outputs": [],
   "source": [
    "def generate_implicit_recs_mapper(model, train_matrix, N, user_mapping, item_inv_mapping):\n",
    "    def _recs_mapper(user):\n",
    "        user_id = user_mapping[user]\n",
    "        recs = model.recommend(user_id, \n",
    "                               train_matrix, \n",
    "                               N=N, \n",
    "                               filter_already_liked_items=True)\n",
    "        return [item_inv_mapping[item] for item, _ in recs]\n",
    "    return _recs_mapper"
   ]
  },
  {
   "cell_type": "code",
   "execution_count": null,
   "metadata": {},
   "outputs": [],
   "source": [
    "mapper = generate_implicit_recs_mapper(cosine_model, train_mat, top_N, users_mapping, items_inv_mapping)\n",
    "mapper"
   ]
  },
  {
   "cell_type": "code",
   "execution_count": null,
   "metadata": {},
   "outputs": [],
   "source": [
    "%time\n",
    "recs = pd.DataFrame({\n",
    "    'user_id': test['user_id'].unique()\n",
    "})\n",
    "recs['item_id'] = recs['user_id'].map(mapper)\n",
    "recs.head()"
   ]
  },
  {
   "cell_type": "code",
   "execution_count": null,
   "metadata": {},
   "outputs": [],
   "source": [
    "recs = recs.explode('item_id')\n",
    "recs['rank'] = recs.groupby('user_id').cumcount() + 1\n",
    "recs.head(top_N + 2)"
   ]
  },
  {
   "cell_type": "code",
   "execution_count": null,
   "metadata": {},
   "outputs": [],
   "source": [
    "metrics = compute_metrics(test, recs, top_N)\n",
    "metrics"
   ]
  },
  {
   "cell_type": "markdown",
   "metadata": {},
   "source": [
    "Как видно, на матрице, заполненной единицами, CosineRecommender с K=10 уже дает метрики немного лучше, чем просто учет популярного"
   ]
  },
  {
   "cell_type": "code",
   "execution_count": null,
   "metadata": {
    "_kg_hide-output": true
   },
   "outputs": [],
   "source": [
    "%%time\n",
    "validation_results = pd.DataFrame()\n",
    "\n",
    "for train_idx, test_idx, info in folds_with_stats:\n",
    "    print(f\"test range - from {info['Start date']} to {info['End date']}\")\n",
    "    train = df.loc[train_idx]\n",
    "    test = df.loc[test_idx]\n",
    "    print(f'train shape - {train.shape}, test shape - {test.shape}')\n",
    "    \n",
    "    train_mat = get_coo_matrix(train).tocsr()\n",
    "    \n",
    "    cosine_model = CosineRecommender(K=10)\n",
    "    cosine_model.fit(train_mat.T) # \n",
    "    \n",
    "    mapper = generate_implicit_recs_mapper(cosine_model, train_mat, top_N, users_mapping, items_inv_mapping)\n",
    "    \n",
    "    recs = pd.DataFrame({\n",
    "        'user_id': test['user_id'].unique()\n",
    "    })\n",
    "    recs['item_id'] = recs['user_id'].map(mapper)\n",
    "    recs = recs.explode('item_id')\n",
    "    recs['rank'] = recs.groupby('user_id').cumcount() + 1\n",
    "    fold_result = compute_metrics(test, recs, top_N)\n",
    "    fold_result.at['Date'] = info['Start date']\n",
    "    fold_result.at['argv'] = 'K=10'\n",
    "    fold_result.at['Model'] = 'cosine model'\n",
    "    \n",
    "    validation_results = validation_results.append(fold_result, ignore_index=True)"
   ]
  },
  {
   "cell_type": "code",
   "execution_count": null,
   "metadata": {},
   "outputs": [],
   "source": [
    "validation_results"
   ]
  },
  {
   "cell_type": "code",
   "execution_count": null,
   "metadata": {},
   "outputs": [],
   "source": [
    "validation_results.agg({\n",
    "    'MRR': ['mean', 'std', 'min', 'max'],\n",
    "    'MAP@10': ['mean', 'std', 'min', 'max'],\n",
    "    'Recall@10': ['mean', 'std', 'min', 'max'],\n",
    "})"
   ]
  },
  {
   "cell_type": "code",
   "execution_count": null,
   "metadata": {
    "_kg_hide-output": true
   },
   "outputs": [],
   "source": [
    "for model_class in [BM25Recommender, TFIDFRecommender]:\n",
    "    for train_idx, test_idx, info in folds_with_stats:\n",
    "        print(f\"test range - from {info['Start date']} to {info['End date']}\")\n",
    "        train = df.loc[train_idx]\n",
    "        test = df.loc[test_idx]\n",
    "        print(f'train shape - {train.shape}, test shape - {test.shape}')\n",
    "        \n",
    "        train_mat = get_coo_matrix(train).tocsr()\n",
    "        \n",
    "        model = model_class(K=10)\n",
    "        model.fit(train_mat.T, show_progress=False) \n",
    "\n",
    "        mapper = generate_implicit_recs_mapper(model, train_mat, top_N, users_mapping, items_inv_mapping)\n",
    "\n",
    "        recs = pd.DataFrame({\n",
    "            'user_id': test['user_id'].unique()\n",
    "        })\n",
    "        recs['item_id'] = recs['user_id'].map(mapper)\n",
    "        recs = recs.explode('item_id')\n",
    "        recs['rank'] = recs.groupby('user_id').cumcount() + 1\n",
    "        fold_result = compute_metrics(test, recs, top_N)\n",
    "        fold_result.at['Date'] = info['Start date']\n",
    "        fold_result.at['argv'] = 'K=10'\n",
    "        fold_result.at['Model'] = model.__class__.__name__\n",
    "\n",
    "        validation_results = validation_results.append(fold_result, ignore_index=True)"
   ]
  },
  {
   "cell_type": "code",
   "execution_count": null,
   "metadata": {},
   "outputs": [],
   "source": [
    "validation_results"
   ]
  },
  {
   "cell_type": "code",
   "execution_count": null,
   "metadata": {},
   "outputs": [],
   "source": [
    "validation_results.groupby(['Model', 'argv']).agg({\n",
    "    'MRR': ['mean', 'std', 'min', 'max'],\n",
    "    'MAP@10': ['mean', 'std', 'min', 'max'],\n",
    "    'Recall@10': ['mean', 'std', 'min', 'max'],\n",
    "})"
   ]
  },
  {
   "cell_type": "code",
   "execution_count": null,
   "metadata": {},
   "outputs": [],
   "source": [
    "model"
   ]
  },
  {
   "cell_type": "code",
   "execution_count": null,
   "metadata": {},
   "outputs": [],
   "source": [
    "model.similarity"
   ]
  },
  {
   "cell_type": "code",
   "execution_count": null,
   "metadata": {},
   "outputs": [],
   "source": [
    "model.similar_items(7789, N=10)"
   ]
  },
  {
   "cell_type": "code",
   "execution_count": null,
   "metadata": {},
   "outputs": [],
   "source": [
    "def get_similar_books(title, model, N=10, idx=0, \n",
    "                      title_items=title_items, item_titles=item_titles, items_mapping=items_mapping, items_inv_mapping=items_inv_mapping):\n",
    "    item_ids = title_items.at[title]\n",
    "    if len(item_ids) == 1:\n",
    "        item_id = item_ids[0]\n",
    "    else:\n",
    "        item_id = item_ids[idx]\n",
    "    \n",
    "    col_id = items_mapping[item_id]\n",
    "    similar = model.similar_items(col_id, N=N)\n",
    "    similar = pd.DataFrame(similar, columns=['col_id', 'similarity'])\n",
    "    similar['item_id'] = similar['col_id'].map(items_inv_mapping.get)\n",
    "    similar['title'] = similar['item_id'].map(item_titles.get)\n",
    "    return similar"
   ]
  },
  {
   "cell_type": "code",
   "execution_count": null,
   "metadata": {},
   "outputs": [],
   "source": [
    "get_similar_books('мастер и маргарита', model)"
   ]
  },
  {
   "cell_type": "code",
   "execution_count": null,
   "metadata": {},
   "outputs": [],
   "source": [
    "get_similar_books('пикник на обочине', model)"
   ]
  },
  {
   "cell_type": "markdown",
   "metadata": {},
   "source": [
    "## AlternatingLeastSquares\n",
    "\n",
    "**Векорное представление** - на основе разложения матрицы взамиодействий (с весами) в произведение двух матриц. \n",
    "Одна матрица размерности `[users x factors]` содержит векторные представления всех пользователей,\n",
    "другая матрица `[items x factors]` для объектов\n",
    "\n",
    "**Процесс построения рекомендаций** - для конкретного пользователя ищутся такие объекты, что скалярное произведение их векторов максимально.\n",
    "\n",
    "**Пространство для тюнинга** \n",
    "* взвешивание на уровне таблицы\n",
    "* `factors` - размерность итоговых векторов (обычно степени 2-ки, от 16 до 256)\n",
    "* `iterations` - кол-во итераций (от 10 до 100)\n",
    "* `regularization` - регуляризация векторов (степени 10-ки, от 0.0001 до 1)\n",
    "\n",
    "Есть возможность использовать GPU через `use_gpu=True` и ApproximateNearestNeighbors (на уровне модели)"
   ]
  },
  {
   "cell_type": "code",
   "execution_count": null,
   "metadata": {},
   "outputs": [],
   "source": [
    "from implicit.als import AlternatingLeastSquares"
   ]
  },
  {
   "cell_type": "code",
   "execution_count": null,
   "metadata": {
    "_kg_hide-output": true
   },
   "outputs": [],
   "source": [
    "for train_idx, test_idx, info in folds_with_stats:\n",
    "    print(f\"test range - from {info['Start date']} to {info['End date']}\")\n",
    "    train = df.loc[train_idx]\n",
    "    test = df.loc[test_idx]\n",
    "    print(f'train shape - {train.shape}, test shape - {test.shape}')\n",
    "    \n",
    "    train_mat = get_coo_matrix(train).tocsr()\n",
    "    \n",
    "    als_model = AlternatingLeastSquares(factors=32, iterations=30, num_threads=4)\n",
    "    als_model.fit(train_mat.T) \n",
    "    \n",
    "    mapper = generate_implicit_recs_mapper(als_model, train_mat, top_N, users_mapping, items_inv_mapping)\n",
    "    \n",
    "    recs = pd.DataFrame({\n",
    "        'user_id': test['user_id'].unique()\n",
    "    })\n",
    "    recs['item_id'] = recs['user_id'].map(mapper)\n",
    "    recs = recs.explode('item_id')\n",
    "    recs['rank'] = recs.groupby('user_id').cumcount() + 1\n",
    "    metrics = compute_metrics(test, recs, top_N)\n",
    "    \n",
    "    fold_result = pd.Series(metrics)\n",
    "    fold_result.at['Date'] = info['Start date']\n",
    "    fold_result.at['argv'] = 'factors=32 iterations=30'\n",
    "    fold_result.at['Model'] = als_model.__class__.__name__\n",
    "    \n",
    "    validation_results = validation_results.append(fold_result, ignore_index=True)"
   ]
  },
  {
   "cell_type": "code",
   "execution_count": null,
   "metadata": {},
   "outputs": [],
   "source": [
    "validation_results.groupby(['Model', 'argv']).agg({\n",
    "    'MRR': ['mean', 'std', 'min', 'max'],\n",
    "    'MAP@10': ['mean', 'std', 'min', 'max'],\n",
    "    'Recall@10': ['mean', 'std', 'min', 'max'],\n",
    "})"
   ]
  },
  {
   "cell_type": "code",
   "execution_count": null,
   "metadata": {},
   "outputs": [],
   "source": [
    "als_model.user_factors.shape, als_model.item_factors.shape"
   ]
  },
  {
   "cell_type": "code",
   "execution_count": null,
   "metadata": {},
   "outputs": [],
   "source": [
    "get_similar_books('мастер и маргарита', als_model)"
   ]
  },
  {
   "cell_type": "code",
   "execution_count": null,
   "metadata": {},
   "outputs": [],
   "source": [
    "get_similar_books('пикник на обочине', als_model)"
   ]
  },
  {
   "cell_type": "code",
   "execution_count": null,
   "metadata": {},
   "outputs": [],
   "source": [
    "similar_users = als_model.similar_users(0, N=5)\n",
    "similar_users"
   ]
  },
  {
   "cell_type": "code",
   "execution_count": null,
   "metadata": {},
   "outputs": [],
   "source": [
    "similar_users = als_model.similar_users(144, N=5)\n",
    "for (uid, sim) in similar_users:\n",
    "    user_id = users_inv_mapping[uid]\n",
    "    print(f'User ID - {user_id} ({sim:.4f})')\n",
    "    user_mask = train['user_id'] == user_id\n",
    "    user_items = train.loc[user_mask, 'item_id'].map(item_titles.get)\n",
    "    print(user_items.to_string(index=False))"
   ]
  },
  {
   "cell_type": "markdown",
   "metadata": {},
   "source": [
    "<a id=\"lightfm\"></a>\n",
    "# LightFM\n",
    "\n",
    "Библиотека для построения рекомендательных систем с помощью матричных разложений и фичей\n",
    "* Репо - https://github.com/lyst/lightfm\n",
    "* Документация - https://making.lyst.com/lightfm/docs/home.html\n",
    "\n",
    "Входные данные - разреженные матрицы (либо csr_matrix, либо coo_matrix)\n",
    "Модель одна, варируются только loss functions. Также есть вспомогательный класс lightfm.data.Dataset для построения как матрицы взаимодействий, так и матриц фичей"
   ]
  },
  {
   "attachments": {
    "image.png": {
     "image/png": "[encoded data removed]"
    }
   },
   "cell_type": "markdown",
   "metadata": {},
   "source": [
    "**Основая идея** - построить векторные представления для каждой фичи по пользователю и объекту. Если фичей нет, то просто используем индикаторные фичи (единичная матрица по пользователям и объектам соответственно)\n",
    "![image.png](attachment:image.png)\n",
    "[image source](https://sites.northwestern.edu/msia/2019/04/24/personalized-restaurant-recommender-system-using-hybrid-approach/#:~:text=LightFM%20incorporates%20matrix%20factorization%20model,retain%20the%20original%20interaction%20matrix.&text=The%20latent%20embeddings%20could%20capture,items%2C%20which%20represent%20their%20tastes.)"
   ]
  },
  {
   "cell_type": "markdown",
   "metadata": {},
   "source": [
    "**Векорное представление** - векторы для пользователя и объекта получают суммирование векторов их фичей.\n",
    "\n",
    "**Процесс построения рекомендаций** - для конкретного пользователя ищутся такие объекты, что скалярное произведение их векторов максимально.\n",
    "\n",
    "**Пространство для тюнинга** \n",
    "* взвешивание на уровне таблицы\n",
    "* `loss` - обучение функции ранжирования.\n",
    "    * `logistic`\n",
    "    * `bpr`\n",
    "    * `warp`\n",
    "    * `warp-kos`\n",
    "* `no_components` - размерность итоговых векторов (обычно степени 2-ки, от 16 до 256)\n",
    "* `learning_rate` - \"скорость\" обучения\n",
    "* `item_alpha`/`user_alpha` - регуляризация (степени 10-ки, от 0.0001 до 1)"
   ]
  },
  {
   "cell_type": "code",
   "execution_count": null,
   "metadata": {},
   "outputs": [],
   "source": [
    "from lightfm.data import Dataset\n",
    "from lightfm import LightFM"
   ]
  },
  {
   "cell_type": "code",
   "execution_count": null,
   "metadata": {},
   "outputs": [],
   "source": [
    "dataset = Dataset()"
   ]
  },
  {
   "cell_type": "code",
   "execution_count": null,
   "metadata": {},
   "outputs": [],
   "source": [
    "dataset.fit(df['user_id'].unique(), df['item_id'].unique())"
   ]
  },
  {
   "cell_type": "code",
   "execution_count": null,
   "metadata": {},
   "outputs": [],
   "source": [
    "df_users['age'] = df_users['age'].cat.add_categories('age_unknown')\n",
    "df_users['age'] = df_users['age'].fillna('age_unknown')\n",
    "age_features = df_users['age'].unique()\n",
    "age_features"
   ]
  },
  {
   "cell_type": "code",
   "execution_count": null,
   "metadata": {},
   "outputs": [],
   "source": [
    "df_users['sex'] = np.array(df_users['sex'].astype(str))\n",
    "df_users['sex'] = df_users['sex'].fillna('age_unknown')\n",
    "sex_features = df_users['sex'].unique()\n",
    "sex_features"
   ]
  },
  {
   "cell_type": "code",
   "execution_count": null,
   "metadata": {},
   "outputs": [],
   "source": [
    "users_features = np.append(age_features, sex_features)\n",
    "users_features"
   ]
  },
  {
   "cell_type": "code",
   "execution_count": null,
   "metadata": {},
   "outputs": [],
   "source": [
    "dataset.fit_partial(user_features=users_features)"
   ]
  },
  {
   "cell_type": "code",
   "execution_count": null,
   "metadata": {},
   "outputs": [],
   "source": [
    "df_items['genres'] = df_items['genres'].cat.add_categories('genre_unknown')\n",
    "df_items['genres'] = df_items['genres'].fillna('genre_unknown')\n",
    "genres = list(df_items['genres'].str.split(',').explode().unique())\n",
    "len(genres)"
   ]
  },
  {
   "cell_type": "code",
   "execution_count": null,
   "metadata": {},
   "outputs": [],
   "source": [
    "dataset.fit_partial(item_features=genres)"
   ]
  },
  {
   "cell_type": "code",
   "execution_count": null,
   "metadata": {},
   "outputs": [],
   "source": [
    "num_users, num_items = dataset.interactions_shape()\n",
    "num_users, num_items"
   ]
  },
  {
   "cell_type": "code",
   "execution_count": null,
   "metadata": {},
   "outputs": [],
   "source": [
    "lightfm_mapping = dataset.mapping()\n",
    "lightfm_mapping = {\n",
    "    'users_mapping': lightfm_mapping[0],\n",
    "    'user_features_mapping': lightfm_mapping[1],\n",
    "    'items_mapping': lightfm_mapping[2],\n",
    "    'item_features_mapping': lightfm_mapping[3],\n",
    "}\n",
    "print('users_mapping len - ', len(lightfm_mapping['users_mapping']))\n",
    "print('user_features_mapping len - ', len(lightfm_mapping['user_features_mapping']))\n",
    "print('items_mapping len - ', len(lightfm_mapping['items_mapping']))\n",
    "print('Users item_features_mapping len - ', len(lightfm_mapping['item_features_mapping']))"
   ]
  },
  {
   "cell_type": "code",
   "execution_count": null,
   "metadata": {},
   "outputs": [],
   "source": [
    "lightfm_mapping['users_inv_mapping'] = {v: k for k, v in lightfm_mapping['users_mapping'].items()}\n",
    "lightfm_mapping['items_inv_mapping'] = {v: k for k, v in lightfm_mapping['items_mapping'].items()}"
   ]
  },
  {
   "cell_type": "code",
   "execution_count": null,
   "metadata": {},
   "outputs": [],
   "source": [
    "num_user_features = dataset.user_features_shape()\n",
    "num_show_features = dataset.item_features_shape()\n",
    "print('Num user features: {} -> {}\\nnum item features: {} -> {}.'.format(\n",
    "    num_user_features[1] - num_users, num_user_features[1], \n",
    "    num_show_features[1] - num_items, num_show_features[1]))"
   ]
  },
  {
   "cell_type": "markdown",
   "metadata": {},
   "source": [
    "Как собрать теперь наши матрицы. \n",
    "* Для интеракций нужен итератор на \n",
    "    * `[(user_id1, item_id1), (user_id2, item_id2), ...]`  \n",
    "    * `[(user_id1, item_id1, weight), (user_id2, item_id2, weight), ...]`\n",
    "* Для фичей нужен итератор на \n",
    "    * `[(id, [feature1, feature2, ...]), (id, [feature1, feature2, ...]), ...]`  \n",
    "    * `[(id, {feature1: weight}), (id, {feature1: weight}), ...]`"
   ]
  },
  {
   "cell_type": "code",
   "execution_count": null,
   "metadata": {},
   "outputs": [],
   "source": [
    "def df_to_tuple_iterator(df):\n",
    "    return zip(*df.values.T)\n",
    "\n",
    "def concat_last_to_list(t):\n",
    "    return (t[0], list(t[1:])[0])\n",
    "\n",
    "def df_to_tuple_list_iterator(df):\n",
    "    return map(concat_last_to_list, zip(*df.values.T))"
   ]
  },
  {
   "cell_type": "code",
   "execution_count": null,
   "metadata": {},
   "outputs": [],
   "source": [
    "train_idx, test_idx, info = folds_with_stats[0]\n",
    "\n",
    "train = df.loc[train_idx]\n",
    "test = df.loc[test_idx]"
   ]
  },
  {
   "cell_type": "code",
   "execution_count": null,
   "metadata": {},
   "outputs": [],
   "source": [
    "train_mat, train_mat_weights = dataset.build_interactions(df_to_tuple_iterator(train[['user_id', 'item_id']]))\n",
    "train_mat"
   ]
  },
  {
   "cell_type": "code",
   "execution_count": null,
   "metadata": {},
   "outputs": [],
   "source": [
    "train_mat_weights"
   ]
  },
  {
   "cell_type": "code",
   "execution_count": null,
   "metadata": {},
   "outputs": [],
   "source": [
    "df_users['features'] = df_users[['age', 'sex']].astype(str).apply(lambda x: list(x), axis=1)\n",
    "df_users.head()"
   ]
  },
  {
   "cell_type": "code",
   "execution_count": null,
   "metadata": {},
   "outputs": [],
   "source": [
    "known_users_filter = df_users['user_id'].isin(df['user_id'].unique())\n",
    "train_user_features = dataset.build_user_features(\n",
    "    df_to_tuple_list_iterator(\n",
    "        df_users.loc[known_users_filter, ['user_id', 'features']]\n",
    "    )\n",
    ")\n",
    "train_user_features"
   ]
  },
  {
   "cell_type": "code",
   "execution_count": null,
   "metadata": {},
   "outputs": [],
   "source": [
    "df_items['features'] = df_items['genres'].str.split(',')\n",
    "df_items.head()"
   ]
  },
  {
   "cell_type": "code",
   "execution_count": null,
   "metadata": {},
   "outputs": [],
   "source": [
    "df_items['features'].map(len).value_counts(dropna=False)"
   ]
  },
  {
   "cell_type": "code",
   "execution_count": null,
   "metadata": {},
   "outputs": [],
   "source": [
    "known_items_filter = df_items['id'].isin(df['item_id'].unique())\n",
    "train_items_features = dataset.build_item_features(\n",
    "    df_to_tuple_list_iterator(\n",
    "        df_items.loc[known_items_filter, ['id', 'features']]\n",
    "    )\n",
    ")\n",
    "train_items_features"
   ]
  },
  {
   "cell_type": "code",
   "execution_count": null,
   "metadata": {},
   "outputs": [],
   "source": [
    "lfm_model = LightFM(no_components=64, learning_rate=0.05, loss='warp', max_sampled=5, random_state=23)"
   ]
  },
  {
   "cell_type": "code",
   "execution_count": null,
   "metadata": {},
   "outputs": [],
   "source": [
    "num_epochs = 15\n",
    "for _ in tqdm(range(num_epochs), total=num_epochs):\n",
    "    lfm_model.fit_partial(\n",
    "        train_mat, \n",
    "        user_features=train_user_features,\n",
    "        item_features=train_items_features,\n",
    "        num_threads=4\n",
    "    )"
   ]
  },
  {
   "cell_type": "code",
   "execution_count": null,
   "metadata": {},
   "outputs": [],
   "source": [
    "top_N = 10\n",
    "user_id = test['user_id'].iloc[0]\n",
    "row_id = lightfm_mapping['users_mapping'][user_id]\n",
    "print(f'Рекомендации для пользователя {user_id}, номер строки - {row_id}')"
   ]
  },
  {
   "cell_type": "code",
   "execution_count": null,
   "metadata": {},
   "outputs": [],
   "source": [
    "all_cols = list(lightfm_mapping['items_mapping'].values())\n",
    "len(all_cols)"
   ]
  },
  {
   "cell_type": "code",
   "execution_count": null,
   "metadata": {},
   "outputs": [],
   "source": [
    "pred = lfm_model.predict(row_id, all_cols, user_features=train_user_features, item_features=train_items_features, num_threads=4)\n",
    "pred, pred.shape"
   ]
  },
  {
   "cell_type": "code",
   "execution_count": null,
   "metadata": {},
   "outputs": [],
   "source": [
    "top_cols = np.argpartition(pred, -np.arange(top_N))[-top_N:][::-1]\n",
    "top_cols"
   ]
  },
  {
   "cell_type": "code",
   "execution_count": null,
   "metadata": {},
   "outputs": [],
   "source": [
    "pred[top_cols]"
   ]
  },
  {
   "cell_type": "code",
   "execution_count": null,
   "metadata": {},
   "outputs": [],
   "source": [
    "np.max(pred)"
   ]
  },
  {
   "cell_type": "code",
   "execution_count": null,
   "metadata": {},
   "outputs": [],
   "source": [
    "recs = pd.DataFrame({'col_id': top_cols})\n",
    "recs['item_id'] = recs['col_id'].map(lightfm_mapping['items_inv_mapping'].get)\n",
    "recs['title'] = recs['item_id'].map(item_titles.get)\n",
    "recs"
   ]
  },
  {
   "cell_type": "code",
   "execution_count": null,
   "metadata": {},
   "outputs": [],
   "source": [
    "recs = pd.DataFrame({\n",
    "    'user_id': test['user_id'].unique()\n",
    "})"
   ]
  },
  {
   "cell_type": "code",
   "execution_count": null,
   "metadata": {},
   "outputs": [],
   "source": [
    "def generate_lightfm_recs_mapper(model, item_ids, known_items, user_features, item_features, N, user_mapping, item_inv_mapping, num_threads=4):\n",
    "    def _recs_mapper(user):\n",
    "        user_id = user_mapping[user]\n",
    "        recs = model.predict(user_id, item_ids, user_features=user_features, item_features=item_features, num_threads=num_threads)\n",
    "        \n",
    "        additional_N = len(known_items[user_id]) if user_id in known_items else 0\n",
    "        total_N = N + additional_N\n",
    "        top_cols = np.argpartition(recs, -np.arange(total_N))[-total_N:][::-1]\n",
    "        \n",
    "        final_recs = [item_inv_mapping[item] for item in top_cols]\n",
    "        if additional_N > 0:\n",
    "            filter_items = known_items[user_id]\n",
    "            final_recs = [item for item in final_recs if item not in filter_items]\n",
    "        return final_recs[:N]\n",
    "    return _recs_mapper"
   ]
  },
  {
   "cell_type": "code",
   "execution_count": null,
   "metadata": {},
   "outputs": [],
   "source": [
    "known_items = train.groupby('user_id')['item_id'].apply(list).to_dict()\n",
    "len(known_items)"
   ]
  },
  {
   "cell_type": "code",
   "execution_count": null,
   "metadata": {},
   "outputs": [],
   "source": [
    "known_items[100]"
   ]
  },
  {
   "cell_type": "code",
   "execution_count": null,
   "metadata": {},
   "outputs": [],
   "source": [
    "mapper = generate_lightfm_recs_mapper(\n",
    "    lfm_model, \n",
    "    item_ids=all_cols, \n",
    "    known_items=known_items,\n",
    "    N=top_N,\n",
    "    user_features=train_user_features, \n",
    "    item_features=train_items_features, \n",
    "    user_mapping=lightfm_mapping['users_mapping'],\n",
    "    item_inv_mapping=lightfm_mapping['items_inv_mapping'],\n",
    "    num_threads=4\n",
    ")"
   ]
  },
  {
   "cell_type": "code",
   "execution_count": null,
   "metadata": {},
   "outputs": [],
   "source": [
    "%%time\n",
    "recs['item_id'] = recs['user_id'].map(mapper)"
   ]
  },
  {
   "cell_type": "code",
   "execution_count": null,
   "metadata": {},
   "outputs": [],
   "source": [
    "recs.head()"
   ]
  },
  {
   "cell_type": "code",
   "execution_count": null,
   "metadata": {},
   "outputs": [],
   "source": [
    "recs = recs.explode('item_id')\n",
    "recs['rank'] = recs.groupby('user_id').cumcount() + 1"
   ]
  },
  {
   "cell_type": "code",
   "execution_count": null,
   "metadata": {},
   "outputs": [],
   "source": [
    "metrics = compute_metrics(test, recs, top_N)\n",
    "metrics"
   ]
  },
  {
   "cell_type": "markdown",
   "metadata": {},
   "source": [
    "<a id=\"links\"></a>\n",
    "# Links\n",
    "* https://www.benfrederickson.com/distance-metrics/ - шикарная статья про разные метрики в kNN для рекомендательных систем (Item2Item, User2User)\n",
    "* https://habr.com/ru/post/486802/ - хорошая статья про разные методы (теория)\n",
    "* https://github.com/dmitryhd/lightfm - форк lightfm от ребят с Авито\n",
    "* https://habr.com/ru/company/avito/blog/439206/ - обзор применения указанного выше форка на recsys challenge 2018"
   ]
  },
  {
   "cell_type": "code",
   "execution_count": null,
   "metadata": {},
   "outputs": [],
   "source": []
  }
 ],
 "metadata": {
  "kaggle": {
   "accelerator": "none",
   "dataSources": [
    {
     "datasetId": 911139,
     "sourceId": 1544602,
     "sourceType": "datasetVersion"
    },
    {
     "sourceId": 45442401,
     "sourceType": "kernelVersion"
    }
   ],
   "dockerImageVersionId": 30019,
   "isGpuEnabled": false,
   "isInternetEnabled": true,
   "language": "python",
   "sourceType": "notebook"
  },
  "kernelspec": {
   "display_name": "myvenv",
   "language": "python",
   "name": "myvenv"
  },
  "language_info": {
   "codemirror_mode": {
    "name": "ipython",
    "version": 3
   },
   "file_extension": ".py",
   "mimetype": "text/x-python",
   "name": "python",
   "nbconvert_exporter": "python",
   "pygments_lexer": "ipython3",
   "version": "3.10.11"
  }
 },
 "nbformat": 4,
 "nbformat_minor": 4
}
